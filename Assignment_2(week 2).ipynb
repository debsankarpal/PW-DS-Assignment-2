{
 "cells": [
  {
   "cell_type": "markdown",
   "id": "fe4877f6-0296-42a1-b1a4-c59fa9700387",
   "metadata": {},
   "source": [
    "Q1. How do you comment code in Python? What are the different types of comments?\n",
    "Ans - \n",
    "Comments are igonored by the intrepretor when executing codes. Generally we can comment a code in python by using \"#\" keyword before a line of code.\n",
    "There are two types of commments - single line comments and multiline comments. Single line coments are denoted with \"#\" in the begining of the line. ex- # This is a sample comment\n",
    "Multiline comments are quoted with three \" (double quotes) or three ' (single quotes).EX -\n",
    " \"\"\"This is\n",
    "    a multiline\n",
    "    comment\"\"\""
   ]
  },
  {
   "cell_type": "markdown",
   "id": "4488ff6f-fb99-47f4-96ec-e93530c072a3",
   "metadata": {},
   "source": [
    "Q2. What are variables in Python? How do you declare and assign values to variables?\n",
    "Ans -\n",
    "Variables in python are like placeholders for values. Youcan assign values to variables using assgning operator '='.\n",
    "Ex - \n",
    "var1 = \"Hello India\"  # Here, var1 is a variable and we are assigning a string value \"Hello India\" in it"
   ]
  },
  {
   "cell_type": "markdown",
   "id": "70cae8d2-9a88-4675-8b81-9647489173cf",
   "metadata": {},
   "source": [
    "Q3. How do you convert one data type to another in Python?\n",
    "Ans - \n",
    "Converting a data type to another data type is called type casting. For example we can convert a float data type into an integer by using int() function.\n",
    "Ex - \n",
    "a1 = 65.39  # a1 is a type of float\n",
    "a2 = int(a1) # in a2 now the value becommes integer"
   ]
  },
  {
   "cell_type": "markdown",
   "id": "9bb4af35-9baf-4188-93ae-cc7bb84c672b",
   "metadata": {},
   "source": [
    "Q4. How do you write and execute a Python script from the command line?\n",
    "Ans - \n",
    "First write a python code in a text editor and save it in your local system as \".py\" file. Then open command promt , write your python version, navigate to the directry where is thye file stored and then execute the program. \n",
    "The format is \"python test1.py\"  # test1.py is the python file"
   ]
  },
  {
   "cell_type": "raw",
   "id": "3a4665e3-cb0c-426e-89ab-a2094f8c137e",
   "metadata": {},
   "source": [
    "Q5. Given a list my_list = [1, 2, 3, 4, 5], write the code to slice the list and obtain the sub-list [2, 3]."
   ]
  },
  {
   "cell_type": "code",
   "execution_count": 3,
   "id": "89c19729-ad6f-4017-a5c8-cc09594e05a0",
   "metadata": {},
   "outputs": [
    {
     "name": "stdout",
     "output_type": "stream",
     "text": [
      "[2, 3]\n"
     ]
    }
   ],
   "source": [
    "#Q5 Answer \n",
    "my_list = [1, 2, 3, 4, 5]\n",
    "sub_list = my_list[1:3]\n",
    "print(sub_list)"
   ]
  },
  {
   "cell_type": "raw",
   "id": "d18b4a92-9cf4-48a0-87e5-14691c082f41",
   "metadata": {},
   "source": [
    "Q6. What is a complex number in mathematics, and how is it represented in Python?\n",
    "Ans - In mathematics complex number means a number which has imaginary value in it. for example, 5+3i is complex number and 'i' is denoted as imaginary unit which is √(-1). \n",
    "In python we use 'j' inplace of 'i' in complex number. 5+3j is complex number representation in python."
   ]
  },
  {
   "cell_type": "raw",
   "id": "a1c1c991-412e-4c50-9e2a-8250ed152319",
   "metadata": {},
   "source": [
    "Q7. What is the correct way to declare a variable named age and assign the value 25 to it?\n"
   ]
  },
  {
   "cell_type": "code",
   "execution_count": 4,
   "id": "f25d1769-a7c1-4f6b-b402-f134ef012f27",
   "metadata": {},
   "outputs": [
    {
     "data": {
      "text/plain": [
       "25"
      ]
     },
     "execution_count": 4,
     "metadata": {},
     "output_type": "execute_result"
    }
   ],
   "source": [
    "#Q7 Answer\n",
    "age = 25  \n",
    "print(age)"
   ]
  },
  {
   "cell_type": "markdown",
   "id": "316b82ea-0b47-4df4-b942-a82d1b4ac7e9",
   "metadata": {},
   "source": [
    "Q8. Declare a variable named price and assign the value 9.99 to it. What data type does this variable\n",
    "belong to?"
   ]
  },
  {
   "cell_type": "code",
   "execution_count": 5,
   "id": "68d8947e-b31d-454d-a491-03be826cce5f",
   "metadata": {},
   "outputs": [
    {
     "name": "stdout",
     "output_type": "stream",
     "text": [
      "<class 'float'>\n"
     ]
    }
   ],
   "source": [
    "#Q8 Answer\n",
    "price = 9.99\n",
    "print(type(price)) # <class 'float'>"
   ]
  },
  {
   "cell_type": "raw",
   "id": "fe9745a7-1013-4269-b72f-cb15b8dbbd6a",
   "metadata": {},
   "source": [
    "Q9. Create a variable named name and assign your full name to it as a string. How would you print the\n",
    "value of this variable?"
   ]
  },
  {
   "cell_type": "code",
   "execution_count": 7,
   "id": "10165292-0902-4791-b1d8-833451ab488f",
   "metadata": {},
   "outputs": [
    {
     "name": "stdout",
     "output_type": "stream",
     "text": [
      "Debsankar Pal\n"
     ]
    }
   ],
   "source": [
    "#Q9 Answer\n",
    "name = \"Debsankar Pal\"\n",
    "print(name)"
   ]
  },
  {
   "cell_type": "raw",
   "id": "878bd867-02c2-4084-9a3d-219ba17ac37c",
   "metadata": {},
   "source": [
    "Q10. Given the string \"Hello, World!\", extract the substring \"World\"."
   ]
  },
  {
   "cell_type": "code",
   "execution_count": 8,
   "id": "b3af37bb-900e-4e3a-b179-4d9902502015",
   "metadata": {},
   "outputs": [
    {
     "name": "stdout",
     "output_type": "stream",
     "text": [
      "World\n"
     ]
    }
   ],
   "source": [
    "#Q10 Answer\n",
    "str1 = \"Hello, World!\"\n",
    "print(str1[7:12])"
   ]
  },
  {
   "cell_type": "raw",
   "id": "e8165825-0903-4821-9781-1c2719a6f8b0",
   "metadata": {},
   "source": [
    "Q11. Create a variable named \"is_student\" and assign it a boolean value indicating whether you are\n",
    "currently a student or not."
   ]
  },
  {
   "cell_type": "code",
   "execution_count": 9,
   "id": "add0b1a6-b425-45c7-954c-f7c70aa02263",
   "metadata": {},
   "outputs": [
    {
     "name": "stdout",
     "output_type": "stream",
     "text": [
      "True\n"
     ]
    }
   ],
   "source": [
    "#Q11 Answer \n",
    "is_student = True\n",
    "print(is_student)"
   ]
  },
  {
   "cell_type": "code",
   "execution_count": null,
   "id": "1912d1a2-e4a5-4707-a815-9e6ea7db9731",
   "metadata": {},
   "outputs": [],
   "source": []
  }
 ],
 "metadata": {
  "kernelspec": {
   "display_name": "Python 3 (ipykernel)",
   "language": "python",
   "name": "python3"
  },
  "language_info": {
   "codemirror_mode": {
    "name": "ipython",
    "version": 3
   },
   "file_extension": ".py",
   "mimetype": "text/x-python",
   "name": "python",
   "nbconvert_exporter": "python",
   "pygments_lexer": "ipython3",
   "version": "3.10.8"
  }
 },
 "nbformat": 4,
 "nbformat_minor": 5
}
